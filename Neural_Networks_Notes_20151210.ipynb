{
 "cells": [
  {
   "cell_type": "markdown",
   "metadata": {},
   "source": [
    "###Title: Neural Networks Notes\n",
    "####Author: Tony Chang\n",
    "####Abstract: Notes from Michael Nielsen's online book regarding neural networks.\n",
    "http://neuralnetworksanddeeplearning.com/chap1.html"
   ]
  },
  {
   "cell_type": "markdown",
   "metadata": {},
   "source": [
    "The first lesson in this book is to understand how one recognizes handwritten digits. It is difficult to explicitly tell a computer that the number '9' is a circle with a tail that sometimes is curved, but sometimes is straight, and sometimes that circle is an oval, etc....So instead of trying do that, we provide a computer a dataset of many examples of '9', and let it learn what it looks like from many examples."
   ]
  },
  {
   "cell_type": "markdown",
   "metadata": {},
   "source": [
    "First term to understand is a **Perceptron**. A perceptron is essentially a function that takes in some number of inputs $x$, multiplies them by a weight $w$ and takes the sum (essentially a dot product) and then returns an output provided some logical set of rules and bias $b$ offset on the dot product. \n",
    "![perceptron](http://neuralnetworksanddeeplearning.com/images/tikz0.png)\n",
    "\n",
    "In the simplest case, we can have a perceptron return a 1 or 0 for the given dot product.\n",
    "\n",
    "$$\n",
    "\\text{output} = \\begin{cases} 0, \\text{if } w \\cdot x + b \\le 0 \\\\1, \n",
    "\\text{if } w \\cdot x + b > 0 \\end{cases}\n",
    "$$"
   ]
  },
  {
   "cell_type": "code",
   "execution_count": 5,
   "metadata": {
    "collapsed": true
   },
   "outputs": [],
   "source": [
    "import numpy as np\n",
    "import matplotlib.pyplot as plt\n",
    "%matplotlib inline"
   ]
  },
  {
   "cell_type": "code",
   "execution_count": 6,
   "metadata": {
    "collapsed": true
   },
   "outputs": [],
   "source": [
    "#let's build a perceptron!\n",
    "def perceptron(x, w, b):\n",
    "    #input x and w arrays and b bias\n",
    "    #this perceptron builds a NAND gate\n",
    "    output = np.dot(x,w) + b\n",
    "    #logical test\n",
    "    if output > 0:\n",
    "        return(1)\n",
    "    elif output <= 0:\n",
    "        return(0)"
   ]
  },
  {
   "cell_type": "code",
   "execution_count": 7,
   "metadata": {
    "collapsed": false
   },
   "outputs": [
    {
     "name": "stdout",
     "output_type": "stream",
     "text": [
      "0\n",
      "1\n",
      "1\n",
      "1\n"
     ]
    }
   ],
   "source": [
    "x11 = np.array([1,1])\n",
    "x01 = np.array([0,1])\n",
    "x10 = np.array([1,0])\n",
    "x00 = np.array([0,0])\n",
    "w = np.ones(2) * -2\n",
    "b = 3\n",
    "print(perceptron(x11, w, b))\n",
    "print(perceptron(x01, w, b))\n",
    "print(perceptron(x10, w, b))\n",
    "print(perceptron(x00, w, b))"
   ]
  },
  {
   "cell_type": "markdown",
   "metadata": {},
   "source": [
    "Let's see if we can link perceptrons to get a sum of these inputs\n",
    "![NAND](http://neuralnetworksanddeeplearning.com/images/tikz4.png)"
   ]
  },
  {
   "cell_type": "code",
   "execution_count": 8,
   "metadata": {
    "collapsed": true
   },
   "outputs": [],
   "source": [
    "def NAND(x, w, b):\n",
    "    out1 = perceptron(x,w,b)\n",
    "    ox1 = np.array([x[0],out1])\n",
    "    ox2 = np.array([x[1],out1])\n",
    "    outx1 = perceptron(ox1,w,b)\n",
    "    outx2 = perceptron(ox2,w,b)\n",
    "    oxx = np.array([outx1,outx2])\n",
    "    sumx = perceptron(oxx, w, b)\n",
    "    carrybit = perceptron(np.array([out1,out1]), w,b) # this is the 2*1 bit (i.e. 2)\n",
    "    return(sumx, carrybit)    "
   ]
  },
  {
   "cell_type": "code",
   "execution_count": 9,
   "metadata": {
    "collapsed": false
   },
   "outputs": [
    {
     "name": "stdout",
     "output_type": "stream",
     "text": [
      "The sum of 00 and 00 is 00.\n",
      "The sum of 00 and 01 is 01.\n",
      "The sum of 01 and 00 is 01.\n",
      "The sum of 01 and 01 is 10.\n"
     ]
    }
   ],
   "source": [
    "w = np.ones(2) * -2\n",
    "b = 3\n",
    "\n",
    "for x1 in range(2):\n",
    "    for x2 in range(2):\n",
    "        x = np.array([x1,x2])\n",
    "        nandx = NAND(x,w,b)\n",
    "        print(\"The sum of 0%d and 0%d is %d%d.\"%(x1,x2,nandx[1],nandx[0]))"
   ]
  },
  {
   "cell_type": "markdown",
   "metadata": {},
   "source": [
    "This looks great, we a neural network used as a NAND gate for computation. So perceptrons can be used for computation in this example."
   ]
  },
  {
   "cell_type": "markdown",
   "metadata": {},
   "source": [
    "Now we need to introduce the **Sigmoid neuron**. In the previous example, the perceptron could only provide binary output 0 or 1. But, if we allow the output to be continuous between 0 and 1, then this would allow us to construct a perceptron that can slightly change the output by slight changes in either the weight $w$ or bias $b$."
   ]
  },
  {
   "cell_type": "markdown",
   "metadata": {},
   "source": [
    "We remember from statistics, if we want a function to run from 0 to 1 in a continuous manner, we can just use a logistic function:\n",
    "\n",
    "$$\n",
    "\\sigma(z) = \\frac{1}{1+e^{-z}}.\n",
    "$$\n",
    "\n",
    "This is also known as the **sigmoid function** in machine learning or neural networks. But, this is a specific case, it can be any function, also called an _activation function_ $f(\\cdot)$."
   ]
  },
  {
   "cell_type": "code",
   "execution_count": 10,
   "metadata": {
    "collapsed": false
   },
   "outputs": [
    {
     "data": {
      "text/plain": [
       "<matplotlib.text.Text at 0x7f2564824438>"
      ]
     },
     "execution_count": 10,
     "metadata": {},
     "output_type": "execute_result"
    },
    {
     "data": {
      "image/png": "[encoded data removed]",
      "text/plain": [
       "<matplotlib.figure.Figure at 0x7f256c051f28>"
      ]
     },
     "metadata": {},
     "output_type": "display_data"
    }
   ],
   "source": [
    "z = np.linspace(-5,5,1000)\n",
    "def sigmoid(z):\n",
    "    return(1/(1+np.e**(-z)))\n",
    "sig = sigmoid(z)\n",
    "plt.plot(z, sig)\n",
    "plt.xlabel('Z')\n",
    "plt.title('sigmoid function')"
   ]
  },
  {
   "cell_type": "markdown",
   "metadata": {},
   "source": [
    "So we can apply the sigmoid activation function to our perceptron in the form:\n",
    "$$\n",
    "\\sigma(w \\cdot x + b) = \\text(output)\n",
    "$$\n",
    "Noting that small changes in $w$ and $b$ can create small changes in the output:\n",
    "$$\n",
    "\\Delta\\text{output} \\approx \\sum_j \\frac{\\partial\\text{output}}{\\partial w_j} \\Delta w_j + \\frac{\\partial\\text{output}}{\\partial b}\\Delta b\n",
    "$$"
   ]
  },
  {
   "cell_type": "markdown",
   "metadata": {},
   "source": [
    "###Exercise 1: Sigmoid neurons simulating perceptrons, part I - Suppose we take all the weights and biases in a network of perceptrons, and multiply them by a positive constant, $c>0$. Show that the behaviour of the network doesn't change."
   ]
  },
  {
   "cell_type": "code",
   "execution_count": 11,
   "metadata": {
    "collapsed": false
   },
   "outputs": [
    {
     "name": "stdout",
     "output_type": "stream",
     "text": [
      "The sum of 00 and 00 is 00.\n",
      "The sum of 00 and 01 is 01.\n",
      "The sum of 01 and 00 is 01.\n",
      "The sum of 01 and 01 is 10.\n",
      "c = 1.723413\n"
     ]
    }
   ],
   "source": [
    "w = np.ones(2) * -2\n",
    "b = 3\n",
    "c = np.random.random(1) * (np.random.random(1)*10)\n",
    "w = w * c\n",
    "b = b * c\n",
    "for x1 in range(2):\n",
    "    for x2 in range(2):\n",
    "        x = np.array([x1,x2])\n",
    "        nandx = NAND(x,w,b)\n",
    "        print(\"The sum of 0%d and 0%d is %d%d.\"%(x1,x2,nandx[1],nandx[0]))\n",
    "print(\"c = %f\"%c)"
   ]
  },
  {
   "cell_type": "markdown",
   "metadata": {},
   "source": [
    "The behaviour of the NAND perceptron does not change with constant $c > 0$ multiplying $w$ and $b$"
   ]
  },
  {
   "cell_type": "markdown",
   "metadata": {},
   "source": [
    "###Exercise 2: Sigmoid neurons simulating perceptrons, part II - Suppose we have the same setup as the last problem - a network of perceptrons. Suppose also that the overall input to the network of perceptrons has been chosen. We won't need the actual input value, we just need the input to have been fixed. Suppose the weights and biases are such that $w⋅x+b≠0$ for the input x to any particular perceptron in the network. Now replace all the perceptrons in the network by sigmoid neurons, and multiply the weights and biases by a positive constant c>0. Show that in the limit as $c→∞$ the behaviour of this network of sigmoid neurons is exactly the same as the network of perceptrons. How can this fail when $w⋅x+b=0$ for one of the perceptrons?"
   ]
  },
  {
   "cell_type": "markdown",
   "metadata": {},
   "source": [
    "if $c \\rightarrow \\infty$ then $z \\rightarrow -\\infty$ so the value sigmoid neuron approaches 0. If $w \\cdot x + b =0$ then our sigmoid will equal $\\frac{1}{1+1}$ which equals $\\frac{1}{2}$. This is not an output of our perceptron?"
   ]
  },
  {
   "cell_type": "code",
   "execution_count": 12,
   "metadata": {
    "collapsed": true
   },
   "outputs": [],
   "source": [
    "#let's build a this perceptron!\n",
    "#in this case w dot x + b can not equal 0, so x is some fixed value. Let's use x = np.array([1,1])\n",
    "def sigmoid(x, w, b):\n",
    "    #input x and w arrays and b bias\n",
    "    #this perceptron builds a NAND gate\n",
    "    output = 1/(1+ np.e**(-1*(np.dot(x,w) + b)))\n",
    "    #logical test\n",
    "    return(output)"
   ]
  },
  {
   "cell_type": "code",
   "execution_count": 13,
   "metadata": {
    "collapsed": false
   },
   "outputs": [
    {
     "name": "stdout",
     "output_type": "stream",
     "text": [
      "[[ 1.   1.5  0.   0.  -0.5]\n",
      " [ 1.5  2.   0.   0.   0. ]\n",
      " [ 0.   0.   0.   0.   0. ]\n",
      " [ 0.   0.   0.   0.   0. ]\n",
      " [-0.5  0.   0.   0.  -2. ]]\n",
      "[[ 28.  27.   0.   0.  31.]\n",
      " [ 27.  26.   0.   0.  30.]\n",
      " [  0.   0.   0.   0.   0.]\n",
      " [  0.   0.   0.   0.   0.]\n",
      " [ 31.  30.   0.   0.  34.]]\n",
      "[[ 1.  1.  0.  0.  1.]\n",
      " [ 1.  1.  0.  0.  1.]\n",
      " [ 0.  0.  0.  0.  0.]\n",
      " [ 0.  0.  0.  0.  0.]\n",
      " [ 1.  1.  0.  0.  1.]]\n"
     ]
    },
    {
     "data": {
      "text/plain": [
       "<matplotlib.colorbar.Colorbar at 0x7f2564743898>"
      ]
     },
     "execution_count": 13,
     "metadata": {},
     "output_type": "execute_result"
    },
    {
     "data": {
      "image/png": "[encoded data removed]",
      "text/plain": [
       "<matplotlib.figure.Figure at 0x7f256c04d390>"
      ]
     },
     "metadata": {},
     "output_type": "display_data"
    }
   ],
   "source": [
    "j = 5\n",
    "w = np.ones(2) *-2\n",
    "b = 30\n",
    "o = np.zeros((j,j))\n",
    "zs = np.zeros((j,j))\n",
    "xs = np.zeros((j,j))\n",
    "r = np.linspace(-1,1,j)\n",
    "\n",
    "for x1 in r:\n",
    "    for x2 in r:\n",
    "        x = np.array([x1,x2])\n",
    "        xs[x1,x2] = np.sum(x)\n",
    "        zs[x1,x2] = np.dot(x,w) + b\n",
    "        o[x1,x2]=sigmoid(x,w,b)\n",
    "print(xs)\n",
    "print(zs)\n",
    "print(o)\n",
    "plt.set_cmap('viridis')\n",
    "plt.imshow(o, origin = 'lower', extent = [o.min(), o.max(), o.min(), o.max()]); plt.colorbar()"
   ]
  },
  {
   "cell_type": "markdown",
   "metadata": {},
   "source": [
    "Think about this exercise more...."
   ]
  },
  {
   "cell_type": "markdown",
   "metadata": {},
   "source": [
    "###Introducing the cost function\n",
    "So the first cost function introduced is:\n",
    "$$\n",
    "C(w,b) \\equiv \\frac{1}{2n} \\sum_x \\parallel y(x) - a \\parallel^2\n",
    "$$\n",
    "Which is just the mean squared error. Where $a$ is a vector of length $n$ (total number of training values) the correct classifications for the numbers (0,9), represented in binary (1 is the class and 0 is not the class), and $y(x)$ is the output from the neural network."
   ]
  },
  {
   "cell_type": "markdown",
   "metadata": {
    "collapsed": true
   },
   "source": [
    "We would like to minimize this cost function. So let's consider what a cost function could look like. Imagining a case for 2 variables $v_1$ and $v_2$ we can visualize a cost function as:\n",
    "![cost_func](http://neuralnetworksanddeeplearning.com/images/valley.png)"
   ]
  },
  {
   "cell_type": "markdown",
   "metadata": {},
   "source": [
    "Using this cost function we can find what values of $v$, the variables (or the weights and the bias in our perceptron model), that we should use by taking the gradient of $C$ (the partial derivatives in terms of each input variable) times some negative learning rate $\\eta$. We use this value to change our next input weight and bias for the each training data set. It should be noted that this would mean that we adjust the weight and bias with each individual training data input $n$ and take the mean of it which could take a great deal of time. One solution is to take a subset of the data of size $m$ randomly and calculate the gradient of the cost function on those only, this known as *stochastic gradient descent*. "
   ]
  },
  {
   "cell_type": "markdown",
   "metadata": {},
   "source": [
    "##Coding the neural network"
   ]
  },
  {
   "cell_type": "code",
   "execution_count": 14,
   "metadata": {
    "collapsed": true
   },
   "outputs": [],
   "source": [
    "#define the neural network object\n",
    "class Network(object):\n",
    "    def __init__(self, sizes):\n",
    "        self.num_layers = len(sizes)\n",
    "        self.sizes = sizes\n",
    "        self.biases = [np.random.randn(y, 1) for y in sizes[1:]]\n",
    "        self.weights = [np.random.randn(y, x) \n",
    "                        for x, y in zip(sizes[:-1], sizes[1:])]"
   ]
  },
  {
   "cell_type": "code",
   "execution_count": 32,
   "metadata": {
    "collapsed": false
   },
   "outputs": [],
   "source": [
    "#instantiate a network with 2 neurons in the first layer (two inputs), 3 in the second (3x2 weights, and 3x1 biases), \n",
    "#and one in the third (1x3 weights and 1 bias)\n",
    "net = Network([2, 3, 1])"
   ]
  },
  {
   "cell_type": "code",
   "execution_count": 37,
   "metadata": {
    "collapsed": false
   },
   "outputs": [
    {
     "data": {
      "text/plain": [
       "[array([[-0.31095052, -0.19525162],\n",
       "        [-0.02360752,  2.65249676],\n",
       "        [ 0.32104061,  0.11977198]]),\n",
       " array([[-1.09412191,  0.3490986 , -2.06342049]])]"
      ]
     },
     "execution_count": 37,
     "metadata": {},
     "output_type": "execute_result"
    }
   ],
   "source": [
    "#we can see this if we inspect weights and bias. They are drawn from a Gaussian distribution as a start\n",
    "net.weights"
   ]
  },
  {
   "cell_type": "code",
   "execution_count": 38,
   "metadata": {
    "collapsed": true
   },
   "outputs": [],
   "source": [
    "#define sigmoid function again\n",
    "def sigmoid(z):\n",
    "    return 1.0/(1.0+np.exp(-z))"
   ]
  },
  {
   "cell_type": "code",
   "execution_count": 39,
   "metadata": {
    "collapsed": true
   },
   "outputs": [],
   "source": []
  },
  {
   "cell_type": "code",
   "execution_count": 46,
   "metadata": {
    "collapsed": false
   },
   "outputs": [
    {
     "name": "stdout",
     "output_type": "stream",
     "text": [
      "1 3\n",
      "2 4\n",
      "3 5\n",
      "4 6\n"
     ]
    }
   ],
   "source": [
    "#reminder of what \"zip\" does\n",
    "a = np.arange(1,5)\n",
    "b = np.arange(3,8)\n",
    "for i,j in zip(a,b):\n",
    "    print(i,j)"
   ]
  },
  {
   "cell_type": "code",
   "execution_count": 125,
   "metadata": {
    "collapsed": true
   },
   "outputs": [],
   "source": [
    "import random\n",
    "#define the neural network object\n",
    "class Network(object):\n",
    "    def __init__(self, sizes):\n",
    "        self.num_layers = len(sizes)\n",
    "        self.sizes = sizes\n",
    "        self.biases = [np.random.randn(y, 1) for y in sizes[1:]]\n",
    "        self.weights = [np.random.randn(y, x) \n",
    "                        for x, y in zip(sizes[:-1], sizes[1:])]\n",
    "        \n",
    "    #now define stochastic gradient descent\n",
    "    def SGD(self, training_data, epochs, mini_batch_size, eta, test_data=None):\n",
    "        \"\"\"Train the neural network using mini-batch stochastic\n",
    "        gradient descent.  The \"training_data\" is a list of tuples\n",
    "        \"(x, y)\" representing the training inputs and the desired\n",
    "        outputs.  The other non-optional parameters are\n",
    "        self-explanatory.  If \"test_data\" is provided then the\n",
    "        network will be evaluated against the test data after each\n",
    "        epoch, and partial progress printed out.  This is useful for\n",
    "        tracking progress, but slows things down substantially.\"\"\"\n",
    "        if test_data: \n",
    "            n_test = len(test_data)\n",
    "        n = len(training_data)\n",
    "        for j in range(epochs):\n",
    "            random.shuffle(training_data) #shuffle up the training data\n",
    "            mini_batches = [\n",
    "                training_data[k:k+mini_batch_size] \n",
    "                for k in range(0, n, mini_batch_size)] #make a mini batch of mini_batch_size\n",
    "            for mini_batch in mini_batches:\n",
    "                self.update_mini_batch(mini_batch, eta)\n",
    "            if test_data:\n",
    "                print(\"Epoch %i %i / %i\"%(j, self.evaluate(test_data), n_test))\n",
    "            else:\n",
    "                print(\"Epoch %i complete\"%j)\n",
    "\n",
    "    #define the update_mini_batch function as well\n",
    "    def update_mini_batch(self, mini_batch, eta):\n",
    "        \"\"\"Update the network's weights and biases by applying\n",
    "        gradient descent using backpropagation to a single mini batch.\n",
    "        The \"mini_batch\" is a list of tuples \"(x, y)\", and \"eta\"\n",
    "        is the learning rate.\"\"\"\n",
    "        nabla_b = [np.zeros(b.shape) for b in self.biases] #creates place holder for the biases\n",
    "        nabla_w = [np.zeros(w.shape) for w in self.weights] #creates place holder for the weights\n",
    "        for x, y in mini_batch:\n",
    "            delta_nabla_b, delta_nabla_w = self.backprop(x, y)\n",
    "            nabla_b = [nb+dnb for nb, dnb in zip(nabla_b, delta_nabla_b)]\n",
    "            nabla_w = [nw+dnw for nw, dnw in zip(nabla_w, delta_nabla_w)]\n",
    "        self.weights = [w-(eta/len(mini_batch))*nw \n",
    "                        for w, nw in zip(self.weights, nabla_w)]\n",
    "        self.biases = [b-(eta/len(mini_batch))*nb \n",
    "                       for b, nb in zip(self.biases, nabla_b)]\n",
    "\n",
    "    #functions for calculating the cost function and gradient of cost function\n",
    "    def feedforward(self, a):\n",
    "        \"\"\"Return the output of the network if \"a\" is input.\"\"\"\n",
    "        for b, w in zip(self.biases, self.weights):\n",
    "            a = sigmoid(np.dot(w, a)+b)\n",
    "        return(a)\n",
    "\n",
    "    def backprop(self, x, y):\n",
    "        \"\"\"Return a tuple ``(nabla_b, nabla_w)`` representing the\n",
    "        gradient for the cost function C_x.  ``nabla_b`` and\n",
    "        ``nabla_w`` are layer-by-layer lists of numpy arrays, similar\n",
    "        to ``self.biases`` and ``self.weights``.\"\"\"\n",
    "        nabla_b = [np.zeros(b.shape) for b in self.biases]\n",
    "        nabla_w = [np.zeros(w.shape) for w in self.weights]\n",
    "        # feedforward\n",
    "        activation = x\n",
    "        activations = [x] # list to store all the activations, layer by layer\n",
    "        zs = [] # list to store all the z vectors, layer by layer\n",
    "        for b, w in zip(self.biases, self.weights):\n",
    "            z = np.dot(w, activation)+b\n",
    "            zs.append(z)\n",
    "            activation = sigmoid(z)\n",
    "            activations.append(activation)\n",
    "        # backward pass\n",
    "        delta = self.cost_derivative(activations[-1], y) * sigmoid_prime(zs[-1])\n",
    "        nabla_b[-1] = delta\n",
    "        nabla_w[-1] = np.dot(delta, activations[-2].transpose())\n",
    "        # Note that the variable l in the loop below is used a little\n",
    "        # differently to the notation in Chapter 2 of the book.  Here,\n",
    "        # l = 1 means the last layer of neurons, l = 2 is the\n",
    "        # second-last layer, and so on.  It's a renumbering of the\n",
    "        # scheme in the book, used here to take advantage of the fact\n",
    "        # that Python can use negative indices in lists.\n",
    "        for l in range(2, self.num_layers):\n",
    "            z = zs[-l]\n",
    "            sp = sigmoid_prime(z)\n",
    "            delta = np.dot(self.weights[-l+1].transpose(), delta) * sp\n",
    "            nabla_b[-l] = delta\n",
    "            nabla_w[-l] = np.dot(delta, activations[-l-1].transpose())\n",
    "        return (nabla_b, nabla_w)\n",
    "\n",
    "    def evaluate(self, test_data):\n",
    "        \"\"\"Return the number of test inputs for which the neural\n",
    "        network outputs the correct result. Note that the neural\n",
    "        network's output is assumed to be the index of whichever\n",
    "        neuron in the final layer has the highest activation.\"\"\"\n",
    "        test_results = [(np.argmax(self.feedforward(x)), y)\n",
    "                        for (x, y) in test_data]\n",
    "        return sum(int(x == y) for (x, y) in test_results)\n",
    "\n",
    "    def cost_derivative(self, output_activations, y):\n",
    "        \"\"\"Return the vector of partial derivatives \\partial C_x /\n",
    "        \\partial a for the output activations.\"\"\"\n",
    "        return (output_activations-y)\n",
    "\n",
    "#### Miscellaneous functions\n",
    "def sigmoid(z):\n",
    "    \"\"\"The sigmoid function.\"\"\"\n",
    "    return 1.0/(1.0+np.exp(-z))\n",
    "\n",
    "def sigmoid_prime(z):\n",
    "    \"\"\"Derivative of the sigmoid function.\"\"\"\n",
    "    return sigmoid(z)*(1-sigmoid(z))"
   ]
  },
  {
   "cell_type": "code",
   "execution_count": 126,
   "metadata": {
    "collapsed": false
   },
   "outputs": [
    {
     "name": "stdout",
     "output_type": "stream",
     "text": [
      "The autoreload extension is already loaded. To reload it, use:\n",
      "  %reload_ext autoreload\n"
     ]
    }
   ],
   "source": [
    "%load_ext autoreload\n",
    "%autoreload 2\n",
    "%run mnist_loader"
   ]
  },
  {
   "cell_type": "code",
   "execution_count": 127,
   "metadata": {
    "collapsed": false
   },
   "outputs": [],
   "source": [
    "import mnist_loader\n",
    "training_data, validation_data, test_data = mnist_loader.load_data_wrapper()"
   ]
  },
  {
   "cell_type": "code",
   "execution_count": 128,
   "metadata": {
    "collapsed": true
   },
   "outputs": [],
   "source": [
    "#initialize our network for the MNIST data with 30 hidden layers and 10 final layers.\n",
    "net = Network([784, 30, 10])"
   ]
  },
  {
   "cell_type": "code",
   "execution_count": 129,
   "metadata": {
    "collapsed": false
   },
   "outputs": [
    {
     "name": "stdout",
     "output_type": "stream",
     "text": [
      "Epoch 0 9135 / 10000\n",
      "Epoch 1 9247 / 10000\n",
      "Epoch 2 9319 / 10000\n",
      "Epoch 3 9346 / 10000\n",
      "Epoch 4 9403 / 10000\n",
      "Epoch 5 9410 / 10000\n",
      "Epoch 6 9436 / 10000\n",
      "Epoch 7 9431 / 10000\n",
      "Epoch 8 9444 / 10000\n",
      "Epoch 9 9431 / 10000\n",
      "Epoch 10 9466 / 10000\n",
      "Epoch 11 9491 / 10000\n",
      "Epoch 12 9459 / 10000\n",
      "Epoch 13 9463 / 10000\n",
      "Epoch 14 9453 / 10000\n",
      "Epoch 15 9462 / 10000\n",
      "Epoch 16 9495 / 10000\n",
      "Epoch 17 9466 / 10000\n",
      "Epoch 18 9451 / 10000\n",
      "Epoch 19 9478 / 10000\n",
      "Epoch 20 9486 / 10000\n",
      "Epoch 21 9478 / 10000\n",
      "Epoch 22 9475 / 10000\n",
      "Epoch 23 9503 / 10000\n",
      "Epoch 24 9489 / 10000\n",
      "Epoch 25 9513 / 10000\n",
      "Epoch 26 9445 / 10000\n",
      "Epoch 27 9498 / 10000\n",
      "Epoch 28 9489 / 10000\n",
      "Epoch 29 9499 / 10000\n"
     ]
    }
   ],
   "source": [
    "net.SGD(training_data, 30, 10, 3.0, test_data=test_data) #run the stochastic gradient descent "
   ]
  },
  {
   "cell_type": "code",
   "execution_count": null,
   "metadata": {
    "collapsed": true
   },
   "outputs": [],
   "source": []
  }
 ],
 "metadata": {
  "kernelspec": {
   "display_name": "Python 3",
   "language": "python",
   "name": "python3"
  },
  "language_info": {
   "codemirror_mode": {
    "name": "ipython",
    "version": 3
   },
   "file_extension": ".py",
   "mimetype": "text/x-python",
   "name": "python",
   "nbconvert_exporter": "python",
   "pygments_lexer": "ipython3",
   "version": "3.4.3"
  }
 },
 "nbformat": 4,
 "nbformat_minor": 0
}
